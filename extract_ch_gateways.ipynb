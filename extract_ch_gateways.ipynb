{
 "cells": [
  {
   "cell_type": "code",
   "execution_count": 2,
   "metadata": {},
   "outputs": [],
   "source": [
    "import json\n",
    "from pprint import pprint\n",
    "\n",
    "with open('gateways.json') as data_file:    \n",
    "    data = json.load(data_file)"
   ]
  },
  {
   "cell_type": "code",
   "execution_count": 18,
   "metadata": {},
   "outputs": [
    {
     "data": {
      "text/plain": [
       "175"
      ]
     },
     "execution_count": 18,
     "metadata": {},
     "output_type": "execute_result"
    }
   ],
   "source": [
    "gateways = []\n",
    "ch_min = (45.49,5.57)\n",
    "ch_max = (47.49,10.30)\n",
    "for g in data:\n",
    "    lat, lon = g['lat'], g['lon']\n",
    "    if lat > ch_min[0] and lon > ch_min[1] and lat < ch_max[0] and lon < ch_max[1]:\n",
    "        gateways.append(g)\n",
    "len(gateways)"
   ]
  },
  {
   "cell_type": "code",
   "execution_count": 19,
   "metadata": {},
   "outputs": [
    {
     "name": "stdout",
     "output_type": "stream",
     "text": [
      "{'altitude': 45,\n",
      " 'antenna_model': '<whatever was in the box>',\n",
      " 'brand': 'RAK Wireless',\n",
      " 'lat': 47.31325,\n",
      " 'lon': 8.523581,\n",
      " 'model': 'RAK831',\n",
      " 'owner': {'username': 'middelink'},\n",
      " 'pk': 28502,\n",
      " 'placement': 'indoor',\n",
      " 'status': 0,\n",
      " 'title': 'RAK831 on RP2 (12_12)'}\n"
     ]
    }
   ],
   "source": [
    "pprint(gateways[0])"
   ]
  },
  {
   "cell_type": "code",
   "execution_count": 20,
   "metadata": {
    "collapsed": true
   },
   "outputs": [],
   "source": [
    "with open('gateways_ch.json', 'w') as output_file:    \n",
    "    json.dump(gateways, output_file)"
   ]
  }
 ],
 "metadata": {
  "kernelspec": {
   "display_name": "Python 3",
   "language": "python",
   "name": "python3"
  },
  "language_info": {
   "codemirror_mode": {
    "name": "ipython",
    "version": 3
   },
   "file_extension": ".py",
   "mimetype": "text/x-python",
   "name": "python",
   "nbconvert_exporter": "python",
   "pygments_lexer": "ipython3",
   "version": "3.6.2"
  }
 },
 "nbformat": 4,
 "nbformat_minor": 2
}
